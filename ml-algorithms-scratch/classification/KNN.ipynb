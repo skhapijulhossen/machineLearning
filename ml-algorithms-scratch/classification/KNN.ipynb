{
 "metadata": {
  "language_info": {
   "codemirror_mode": {
    "name": "ipython",
    "version": 3
   },
   "file_extension": ".py",
   "mimetype": "text/x-python",
   "name": "python",
   "nbconvert_exporter": "python",
   "pygments_lexer": "ipython3",
   "version": "3.9.1"
  },
  "orig_nbformat": 2,
  "kernelspec": {
   "name": "python391jvsc74a57bd05e02d0efff813a9368c354e505ea65821711dca306094a6f79d155d3e22f7a88",
   "display_name": "Python 3.9.1 64-bit"
  },
  "metadata": {
   "interpreter": {
    "hash": "5e02d0efff813a9368c354e505ea65821711dca306094a6f79d155d3e22f7a88"
   }
  }
 },
 "nbformat": 4,
 "nbformat_minor": 2,
 "cells": [
  {
   "source": [
    "# KNN From Scratch"
   ],
   "cell_type": "markdown",
   "metadata": {}
  },
  {
   "cell_type": "code",
   "execution_count": 294,
   "metadata": {},
   "outputs": [],
   "source": [
    "import numpy as np\n",
    "import pandas as pd\n",
    "import matplotlib.pyplot as pyplot\n",
    "import seaborn as sns\n",
    "%matplotlib inline\n"
   ]
  },
  {
   "cell_type": "code",
   "execution_count": 295,
   "metadata": {},
   "outputs": [
    {
     "output_type": "execute_result",
     "data": {
      "text/plain": [
       "   p_id  no_times_pregnant  glucose_concentration  blood_pressure  \\\n",
       "0   316                  2                    112              68   \n",
       "1    25                 11                    143              94   \n",
       "2   710                  2                     93              64   \n",
       "3   658                  1                    120              80   \n",
       "4   542                  3                    128              72   \n",
       "\n",
       "   skin_fold_thickness  serum_insulin   bmi  diabetes pedigree  age  diabetes  \n",
       "0                   22             94  34.1              0.315   26         0  \n",
       "1                   33            146  36.6              0.254   51         1  \n",
       "2                   32            160  38.0              0.674   23         1  \n",
       "3                   48            200  38.9              1.162   41         0  \n",
       "4                   25            190  32.4              0.549   27         1  "
      ],
      "text/html": "<div>\n<style scoped>\n    .dataframe tbody tr th:only-of-type {\n        vertical-align: middle;\n    }\n\n    .dataframe tbody tr th {\n        vertical-align: top;\n    }\n\n    .dataframe thead th {\n        text-align: right;\n    }\n</style>\n<table border=\"1\" class=\"dataframe\">\n  <thead>\n    <tr style=\"text-align: right;\">\n      <th></th>\n      <th>p_id</th>\n      <th>no_times_pregnant</th>\n      <th>glucose_concentration</th>\n      <th>blood_pressure</th>\n      <th>skin_fold_thickness</th>\n      <th>serum_insulin</th>\n      <th>bmi</th>\n      <th>diabetes pedigree</th>\n      <th>age</th>\n      <th>diabetes</th>\n    </tr>\n  </thead>\n  <tbody>\n    <tr>\n      <th>0</th>\n      <td>316</td>\n      <td>2</td>\n      <td>112</td>\n      <td>68</td>\n      <td>22</td>\n      <td>94</td>\n      <td>34.1</td>\n      <td>0.315</td>\n      <td>26</td>\n      <td>0</td>\n    </tr>\n    <tr>\n      <th>1</th>\n      <td>25</td>\n      <td>11</td>\n      <td>143</td>\n      <td>94</td>\n      <td>33</td>\n      <td>146</td>\n      <td>36.6</td>\n      <td>0.254</td>\n      <td>51</td>\n      <td>1</td>\n    </tr>\n    <tr>\n      <th>2</th>\n      <td>710</td>\n      <td>2</td>\n      <td>93</td>\n      <td>64</td>\n      <td>32</td>\n      <td>160</td>\n      <td>38.0</td>\n      <td>0.674</td>\n      <td>23</td>\n      <td>1</td>\n    </tr>\n    <tr>\n      <th>3</th>\n      <td>658</td>\n      <td>1</td>\n      <td>120</td>\n      <td>80</td>\n      <td>48</td>\n      <td>200</td>\n      <td>38.9</td>\n      <td>1.162</td>\n      <td>41</td>\n      <td>0</td>\n    </tr>\n    <tr>\n      <th>4</th>\n      <td>542</td>\n      <td>3</td>\n      <td>128</td>\n      <td>72</td>\n      <td>25</td>\n      <td>190</td>\n      <td>32.4</td>\n      <td>0.549</td>\n      <td>27</td>\n      <td>1</td>\n    </tr>\n  </tbody>\n</table>\n</div>"
     },
     "metadata": {},
     "execution_count": 295
    }
   ],
   "source": [
    "train_data = pd.read_csv(r'C:\\PYTHON\\machineLearning-from-scratch\\classification\\train.csv')\n",
    "train_data.head()"
   ]
  },
  {
   "cell_type": "code",
   "execution_count": 296,
   "metadata": {},
   "outputs": [
    {
     "output_type": "execute_result",
     "data": {
      "text/plain": [
       "   p_id  no_times_pregnant  glucose_concentration  blood_pressure  \\\n",
       "0   437                 12                    140              85   \n",
       "1   411                  6                    102              90   \n",
       "2   639                  7                     97              76   \n",
       "3   213                  7                    179              95   \n",
       "4   181                  6                     87              80   \n",
       "\n",
       "   skin_fold_thickness  serum_insulin   bmi  diabetes pedigree  age  \n",
       "0                   33              0  37.4              0.244   41  \n",
       "1                   39              0  35.7              0.674   28  \n",
       "2                   32             91  40.9              0.871   32  \n",
       "3                   31              0  34.2              0.164   60  \n",
       "4                    0              0  23.2              0.084   32  "
      ],
      "text/html": "<div>\n<style scoped>\n    .dataframe tbody tr th:only-of-type {\n        vertical-align: middle;\n    }\n\n    .dataframe tbody tr th {\n        vertical-align: top;\n    }\n\n    .dataframe thead th {\n        text-align: right;\n    }\n</style>\n<table border=\"1\" class=\"dataframe\">\n  <thead>\n    <tr style=\"text-align: right;\">\n      <th></th>\n      <th>p_id</th>\n      <th>no_times_pregnant</th>\n      <th>glucose_concentration</th>\n      <th>blood_pressure</th>\n      <th>skin_fold_thickness</th>\n      <th>serum_insulin</th>\n      <th>bmi</th>\n      <th>diabetes pedigree</th>\n      <th>age</th>\n    </tr>\n  </thead>\n  <tbody>\n    <tr>\n      <th>0</th>\n      <td>437</td>\n      <td>12</td>\n      <td>140</td>\n      <td>85</td>\n      <td>33</td>\n      <td>0</td>\n      <td>37.4</td>\n      <td>0.244</td>\n      <td>41</td>\n    </tr>\n    <tr>\n      <th>1</th>\n      <td>411</td>\n      <td>6</td>\n      <td>102</td>\n      <td>90</td>\n      <td>39</td>\n      <td>0</td>\n      <td>35.7</td>\n      <td>0.674</td>\n      <td>28</td>\n    </tr>\n    <tr>\n      <th>2</th>\n      <td>639</td>\n      <td>7</td>\n      <td>97</td>\n      <td>76</td>\n      <td>32</td>\n      <td>91</td>\n      <td>40.9</td>\n      <td>0.871</td>\n      <td>32</td>\n    </tr>\n    <tr>\n      <th>3</th>\n      <td>213</td>\n      <td>7</td>\n      <td>179</td>\n      <td>95</td>\n      <td>31</td>\n      <td>0</td>\n      <td>34.2</td>\n      <td>0.164</td>\n      <td>60</td>\n    </tr>\n    <tr>\n      <th>4</th>\n      <td>181</td>\n      <td>6</td>\n      <td>87</td>\n      <td>80</td>\n      <td>0</td>\n      <td>0</td>\n      <td>23.2</td>\n      <td>0.084</td>\n      <td>32</td>\n    </tr>\n  </tbody>\n</table>\n</div>"
     },
     "metadata": {},
     "execution_count": 296
    }
   ],
   "source": [
    "test_data = pd.read_csv(r'C:\\PYTHON\\machineLearning-from-scratch\\classification\\test.csv')\n",
    "test_data.head()"
   ]
  },
  {
   "source": [
    "# Visualization"
   ],
   "cell_type": "markdown",
   "metadata": {}
  },
  {
   "cell_type": "code",
   "execution_count": 297,
   "metadata": {},
   "outputs": [],
   "source": [
    "#sns.pairplot(train_data)"
   ]
  },
  {
   "cell_type": "code",
   "execution_count": 298,
   "metadata": {},
   "outputs": [
    {
     "output_type": "execute_result",
     "data": {
      "text/plain": [
       "             p_id  no_times_pregnant  glucose_concentration  blood_pressure  \\\n",
       "count  614.000000         614.000000             614.000000      614.000000   \n",
       "mean   385.773616           3.853420             120.542345       68.765472   \n",
       "std    223.603024           3.358126              31.252286       19.914836   \n",
       "min      1.000000           0.000000               0.000000        0.000000   \n",
       "25%    191.250000           1.000000              99.000000       62.000000   \n",
       "50%    387.000000           3.000000             117.000000       72.000000   \n",
       "75%    572.750000           6.000000             139.000000       80.000000   \n",
       "max    768.000000          17.000000             197.000000      114.000000   \n",
       "\n",
       "       skin_fold_thickness  serum_insulin         bmi  diabetes pedigree  \\\n",
       "count           614.000000     614.000000  614.000000         614.000000   \n",
       "mean             20.244300      79.355049   31.909935           0.466342   \n",
       "std              15.886083     117.709950    8.007699           0.331090   \n",
       "min               0.000000       0.000000    0.000000           0.078000   \n",
       "25%               0.000000       0.000000   27.300000           0.240250   \n",
       "50%              23.000000      17.000000   32.000000           0.361000   \n",
       "75%              32.000000     126.000000   36.600000           0.613500   \n",
       "max              63.000000     846.000000   59.400000           2.420000   \n",
       "\n",
       "              age    diabetes  \n",
       "count  614.000000  614.000000  \n",
       "mean    33.325733    0.348534  \n",
       "std     11.929569    0.476895  \n",
       "min     21.000000    0.000000  \n",
       "25%     24.000000    0.000000  \n",
       "50%     29.000000    0.000000  \n",
       "75%     41.000000    1.000000  \n",
       "max     81.000000    1.000000  "
      ],
      "text/html": "<div>\n<style scoped>\n    .dataframe tbody tr th:only-of-type {\n        vertical-align: middle;\n    }\n\n    .dataframe tbody tr th {\n        vertical-align: top;\n    }\n\n    .dataframe thead th {\n        text-align: right;\n    }\n</style>\n<table border=\"1\" class=\"dataframe\">\n  <thead>\n    <tr style=\"text-align: right;\">\n      <th></th>\n      <th>p_id</th>\n      <th>no_times_pregnant</th>\n      <th>glucose_concentration</th>\n      <th>blood_pressure</th>\n      <th>skin_fold_thickness</th>\n      <th>serum_insulin</th>\n      <th>bmi</th>\n      <th>diabetes pedigree</th>\n      <th>age</th>\n      <th>diabetes</th>\n    </tr>\n  </thead>\n  <tbody>\n    <tr>\n      <th>count</th>\n      <td>614.000000</td>\n      <td>614.000000</td>\n      <td>614.000000</td>\n      <td>614.000000</td>\n      <td>614.000000</td>\n      <td>614.000000</td>\n      <td>614.000000</td>\n      <td>614.000000</td>\n      <td>614.000000</td>\n      <td>614.000000</td>\n    </tr>\n    <tr>\n      <th>mean</th>\n      <td>385.773616</td>\n      <td>3.853420</td>\n      <td>120.542345</td>\n      <td>68.765472</td>\n      <td>20.244300</td>\n      <td>79.355049</td>\n      <td>31.909935</td>\n      <td>0.466342</td>\n      <td>33.325733</td>\n      <td>0.348534</td>\n    </tr>\n    <tr>\n      <th>std</th>\n      <td>223.603024</td>\n      <td>3.358126</td>\n      <td>31.252286</td>\n      <td>19.914836</td>\n      <td>15.886083</td>\n      <td>117.709950</td>\n      <td>8.007699</td>\n      <td>0.331090</td>\n      <td>11.929569</td>\n      <td>0.476895</td>\n    </tr>\n    <tr>\n      <th>min</th>\n      <td>1.000000</td>\n      <td>0.000000</td>\n      <td>0.000000</td>\n      <td>0.000000</td>\n      <td>0.000000</td>\n      <td>0.000000</td>\n      <td>0.000000</td>\n      <td>0.078000</td>\n      <td>21.000000</td>\n      <td>0.000000</td>\n    </tr>\n    <tr>\n      <th>25%</th>\n      <td>191.250000</td>\n      <td>1.000000</td>\n      <td>99.000000</td>\n      <td>62.000000</td>\n      <td>0.000000</td>\n      <td>0.000000</td>\n      <td>27.300000</td>\n      <td>0.240250</td>\n      <td>24.000000</td>\n      <td>0.000000</td>\n    </tr>\n    <tr>\n      <th>50%</th>\n      <td>387.000000</td>\n      <td>3.000000</td>\n      <td>117.000000</td>\n      <td>72.000000</td>\n      <td>23.000000</td>\n      <td>17.000000</td>\n      <td>32.000000</td>\n      <td>0.361000</td>\n      <td>29.000000</td>\n      <td>0.000000</td>\n    </tr>\n    <tr>\n      <th>75%</th>\n      <td>572.750000</td>\n      <td>6.000000</td>\n      <td>139.000000</td>\n      <td>80.000000</td>\n      <td>32.000000</td>\n      <td>126.000000</td>\n      <td>36.600000</td>\n      <td>0.613500</td>\n      <td>41.000000</td>\n      <td>1.000000</td>\n    </tr>\n    <tr>\n      <th>max</th>\n      <td>768.000000</td>\n      <td>17.000000</td>\n      <td>197.000000</td>\n      <td>114.000000</td>\n      <td>63.000000</td>\n      <td>846.000000</td>\n      <td>59.400000</td>\n      <td>2.420000</td>\n      <td>81.000000</td>\n      <td>1.000000</td>\n    </tr>\n  </tbody>\n</table>\n</div>"
     },
     "metadata": {},
     "execution_count": 298
    }
   ],
   "source": [
    "train_data.describe()"
   ]
  },
  {
   "cell_type": "code",
   "execution_count": 299,
   "metadata": {},
   "outputs": [
    {
     "output_type": "stream",
     "name": "stdout",
     "text": [
      "<class 'pandas.core.frame.DataFrame'>\nRangeIndex: 614 entries, 0 to 613\nData columns (total 10 columns):\n #   Column                 Non-Null Count  Dtype  \n---  ------                 --------------  -----  \n 0   p_id                   614 non-null    int64  \n 1   no_times_pregnant      614 non-null    int64  \n 2   glucose_concentration  614 non-null    int64  \n 3   blood_pressure         614 non-null    int64  \n 4   skin_fold_thickness    614 non-null    int64  \n 5   serum_insulin          614 non-null    int64  \n 6   bmi                    614 non-null    float64\n 7   diabetes pedigree      614 non-null    float64\n 8   age                    614 non-null    int64  \n 9   diabetes               614 non-null    int64  \ndtypes: float64(2), int64(8)\nmemory usage: 48.1 KB\n"
     ]
    }
   ],
   "source": [
    "train_data.info()"
   ]
  },
  {
   "source": [
    "# K Nearest Neighbors"
   ],
   "cell_type": "markdown",
   "metadata": {}
  },
  {
   "cell_type": "code",
   "execution_count": 300,
   "metadata": {},
   "outputs": [
    {
     "output_type": "execute_result",
     "data": {
      "text/plain": [
       "491"
      ]
     },
     "metadata": {},
     "execution_count": 300
    }
   ],
   "source": [
    "split = int(train_data.shape[0] * 0.8)\n",
    "split"
   ]
  },
  {
   "cell_type": "code",
   "execution_count": 301,
   "metadata": {},
   "outputs": [
    {
     "output_type": "execute_result",
     "data": {
      "text/plain": [
       "     glucose_concentration  blood_pressure\n",
       "491                    137              61\n",
       "492                    130              70\n",
       "493                    130              96\n",
       "494                    123              48\n",
       "495                    152              78\n",
       "..                     ...             ...\n",
       "609                    189              60\n",
       "610                     84              64\n",
       "611                     92              52\n",
       "612                    125              96\n",
       "613                    124              74\n",
       "\n",
       "[123 rows x 2 columns]"
      ],
      "text/html": "<div>\n<style scoped>\n    .dataframe tbody tr th:only-of-type {\n        vertical-align: middle;\n    }\n\n    .dataframe tbody tr th {\n        vertical-align: top;\n    }\n\n    .dataframe thead th {\n        text-align: right;\n    }\n</style>\n<table border=\"1\" class=\"dataframe\">\n  <thead>\n    <tr style=\"text-align: right;\">\n      <th></th>\n      <th>glucose_concentration</th>\n      <th>blood_pressure</th>\n    </tr>\n  </thead>\n  <tbody>\n    <tr>\n      <th>491</th>\n      <td>137</td>\n      <td>61</td>\n    </tr>\n    <tr>\n      <th>492</th>\n      <td>130</td>\n      <td>70</td>\n    </tr>\n    <tr>\n      <th>493</th>\n      <td>130</td>\n      <td>96</td>\n    </tr>\n    <tr>\n      <th>494</th>\n      <td>123</td>\n      <td>48</td>\n    </tr>\n    <tr>\n      <th>495</th>\n      <td>152</td>\n      <td>78</td>\n    </tr>\n    <tr>\n      <th>...</th>\n      <td>...</td>\n      <td>...</td>\n    </tr>\n    <tr>\n      <th>609</th>\n      <td>189</td>\n      <td>60</td>\n    </tr>\n    <tr>\n      <th>610</th>\n      <td>84</td>\n      <td>64</td>\n    </tr>\n    <tr>\n      <th>611</th>\n      <td>92</td>\n      <td>52</td>\n    </tr>\n    <tr>\n      <th>612</th>\n      <td>125</td>\n      <td>96</td>\n    </tr>\n    <tr>\n      <th>613</th>\n      <td>124</td>\n      <td>74</td>\n    </tr>\n  </tbody>\n</table>\n<p>123 rows × 2 columns</p>\n</div>"
     },
     "metadata": {},
     "execution_count": 301
    }
   ],
   "source": [
    "train_X = train_data[['glucose_concentration','blood_pressure']]\n",
    "trainX = train_X[:split]\n",
    "testX = train_X[split:]\n",
    "testX"
   ]
  },
  {
   "cell_type": "code",
   "execution_count": 302,
   "metadata": {},
   "outputs": [
    {
     "output_type": "execute_result",
     "data": {
      "text/plain": [
       "     diabetes\n",
       "491         0\n",
       "492         0\n",
       "493         0\n",
       "494         0\n",
       "495         1\n",
       "..        ...\n",
       "609         1\n",
       "610         0\n",
       "611         0\n",
       "612         0\n",
       "613         0\n",
       "\n",
       "[123 rows x 1 columns]"
      ],
      "text/html": "<div>\n<style scoped>\n    .dataframe tbody tr th:only-of-type {\n        vertical-align: middle;\n    }\n\n    .dataframe tbody tr th {\n        vertical-align: top;\n    }\n\n    .dataframe thead th {\n        text-align: right;\n    }\n</style>\n<table border=\"1\" class=\"dataframe\">\n  <thead>\n    <tr style=\"text-align: right;\">\n      <th></th>\n      <th>diabetes</th>\n    </tr>\n  </thead>\n  <tbody>\n    <tr>\n      <th>491</th>\n      <td>0</td>\n    </tr>\n    <tr>\n      <th>492</th>\n      <td>0</td>\n    </tr>\n    <tr>\n      <th>493</th>\n      <td>0</td>\n    </tr>\n    <tr>\n      <th>494</th>\n      <td>0</td>\n    </tr>\n    <tr>\n      <th>495</th>\n      <td>1</td>\n    </tr>\n    <tr>\n      <th>...</th>\n      <td>...</td>\n    </tr>\n    <tr>\n      <th>609</th>\n      <td>1</td>\n    </tr>\n    <tr>\n      <th>610</th>\n      <td>0</td>\n    </tr>\n    <tr>\n      <th>611</th>\n      <td>0</td>\n    </tr>\n    <tr>\n      <th>612</th>\n      <td>0</td>\n    </tr>\n    <tr>\n      <th>613</th>\n      <td>0</td>\n    </tr>\n  </tbody>\n</table>\n<p>123 rows × 1 columns</p>\n</div>"
     },
     "metadata": {},
     "execution_count": 302
    }
   ],
   "source": [
    "train_Y = train_data[['diabetes']]\n",
    "trainY = train_Y[:split]\n",
    "trainY\n",
    "testY = train_Y[split:]\n",
    "testY"
   ]
  },
  {
   "cell_type": "code",
   "execution_count": 303,
   "metadata": {},
   "outputs": [],
   "source": [
    "testX = test_data[['glucose_concentration','blood_pressure']]\n"
   ]
  },
  {
   "cell_type": "code",
   "execution_count": 304,
   "metadata": {},
   "outputs": [],
   "source": [
    "\n",
    "class KNNClassifier:\n",
    "    def __init__(self, k=3):\n",
    "        self.k = k\n",
    "        self.k_Neighbors = None\n",
    "    \n",
    "    def fit(self, X:np.ndarray, y:np.ndarray):\n",
    "        self.X = X\n",
    "        self.y = y\n",
    "        return True\n",
    "    \n",
    "    def predict(self, x:np.ndarray):\n",
    "        self.predictions = []\n",
    "        for test in x:\n",
    "            distance_matrix = []\n",
    "            for neighbors in range(len(self.X)):\n",
    "                euclidian_distance = np.sqrt(np.sum(self.X[neighbors, :] - test)**2)\n",
    "                distance_matrix.append(euclidian_distance)\n",
    "            # print(distance_matrix)\n",
    "            distance_matrix = np.array(distance_matrix)\n",
    "            self.k_Neighbors = np.argsort(distance_matrix)[:self.k]\n",
    "            votes = self.y[self.k_Neighbors]\n",
    "            vote_counts = {}\n",
    "            for label in votes:\n",
    "                if label[0] in vote_counts.keys():\n",
    "                    vote_counts[label[0]] += 1\n",
    "                else:\n",
    "                     vote_counts[label[0]] = 1 \n",
    "            # print(vote_counts)\n",
    "            majority = sorted(vote_counts.items(), key=lambda byVote:byVote[1])[-1][0]\n",
    "            # print(majority)\n",
    "            self.predictions.append(majority)\n",
    "            # print(self.predictions)\n",
    "        return np.array(self.predictions).reshape(len(self.predictions), 1)\n"
   ]
  },
  {
   "source": [
    "# Model Evaluators\n"
   ],
   "cell_type": "markdown",
   "metadata": {}
  },
  {
   "cell_type": "code",
   "execution_count": 305,
   "metadata": {},
   "outputs": [],
   "source": [
    "clf = KNNClassifier(k=9)\n",
    "clf.fit(trainX.values,trainY.values)\n",
    "yhat = clf.predict(testX.values)"
   ]
  },
  {
   "cell_type": "code",
   "execution_count": 306,
   "metadata": {},
   "outputs": [
    {
     "output_type": "execute_result",
     "data": {
      "text/plain": [
       "     diabetes\n",
       "491         0\n",
       "492         0\n",
       "493         0\n",
       "494         0\n",
       "495         1"
      ],
      "text/html": "<div>\n<style scoped>\n    .dataframe tbody tr th:only-of-type {\n        vertical-align: middle;\n    }\n\n    .dataframe tbody tr th {\n        vertical-align: top;\n    }\n\n    .dataframe thead th {\n        text-align: right;\n    }\n</style>\n<table border=\"1\" class=\"dataframe\">\n  <thead>\n    <tr style=\"text-align: right;\">\n      <th></th>\n      <th>diabetes</th>\n    </tr>\n  </thead>\n  <tbody>\n    <tr>\n      <th>491</th>\n      <td>0</td>\n    </tr>\n    <tr>\n      <th>492</th>\n      <td>0</td>\n    </tr>\n    <tr>\n      <th>493</th>\n      <td>0</td>\n    </tr>\n    <tr>\n      <th>494</th>\n      <td>0</td>\n    </tr>\n    <tr>\n      <th>495</th>\n      <td>1</td>\n    </tr>\n  </tbody>\n</table>\n</div>"
     },
     "metadata": {},
     "execution_count": 306
    }
   ],
   "source": [
    "testY.head()"
   ]
  },
  {
   "cell_type": "code",
   "execution_count": 307,
   "metadata": {},
   "outputs": [],
   "source": [
    "def Jaccard_index(Y, yhat):\n",
    "    total = len(Y)\n",
    "    if not isinstance(Y, np.ndarray):\n",
    "        Y = Y.values\n",
    "    if not isinstance(yhat, np.ndarray):\n",
    "        yhat = yhat.values\n",
    "    correct_prediction = sum([1 if Y[index][0] == yhat[index][0] else 0 for index in range(total)])\n",
    "    jaccard_index_score = (correct_prediction/((total+total)- correct_prediction))\n",
    "    return round(jaccard_index_score, 4)\n",
    "\n",
    "def F1_Score(Y, yhat):\n",
    "    total = len(Y)\n",
    "    f1_score = []\n",
    "    if not isinstance(Y, np.ndarray):\n",
    "        Y = Y.values\n",
    "    if not isinstance(yhat, np.ndarray):\n",
    "        yhat = yhat.values\n",
    "    TP = 0; FN = 0; FP = 0;TN = 0\n",
    "    for index in range(total):\n",
    "        if Y[index][0] == yhat[index][0]:\n",
    "            if Y[index][0] == 1:\n",
    "                TP += 1\n",
    "            else:\n",
    "                TN += 1\n",
    "        else:\n",
    "            if yhat[index][0] == 1:\n",
    "                FN += 1\n",
    "            else:\n",
    "                FP += 1\n",
    "    precision_1 = TP/(TP+FP)\n",
    "    recall_1 = TP/(TP+FN)\n",
    "    f1_score.append((2*(precision_1*recall_1))/(precision_1+recall_1))\n",
    "    precision_0 = TN/(TN+FN)\n",
    "    recall_0 = TN/(TN+FP)\n",
    "    f1_score.append((2*(precision_0*recall_0))/(precision_0+recall_0))\n",
    "    return round((sum(f1_score)/len(f1_score)), 4)\n",
    "\n",
    "\n"
   ]
  },
  {
   "cell_type": "code",
   "execution_count": 308,
   "metadata": {},
   "outputs": [
    {
     "output_type": "execute_result",
     "data": {
      "text/plain": [
       "0.4057"
      ]
     },
     "metadata": {},
     "execution_count": 308
    }
   ],
   "source": [
    "\n",
    "Jaccard_index(testY, yhat)\n"
   ]
  },
  {
   "cell_type": "code",
   "execution_count": 309,
   "metadata": {},
   "outputs": [
    {
     "output_type": "execute_result",
     "data": {
      "text/plain": [
       "0.4895"
      ]
     },
     "metadata": {},
     "execution_count": 309
    }
   ],
   "source": [
    "F1_Score(testY, yhat)"
   ]
  },
  {
   "cell_type": "code",
   "execution_count": null,
   "metadata": {},
   "outputs": [],
   "source": []
  }
 ]
}